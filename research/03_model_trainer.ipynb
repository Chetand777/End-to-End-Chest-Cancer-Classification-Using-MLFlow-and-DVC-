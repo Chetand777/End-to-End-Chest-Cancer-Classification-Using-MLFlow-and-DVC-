{
 "cells": [
  {
   "cell_type": "code",
   "execution_count": 1,
   "metadata": {},
   "outputs": [],
   "source": [
    "import os"
   ]
  },
  {
   "cell_type": "code",
   "execution_count": 2,
   "metadata": {},
   "outputs": [
    {
     "data": {
      "text/plain": [
       "'f:\\\\Projects\\\\End-to-End-Chest-Cancer-Classification-Using-MLFlow-and-DVC-\\\\research'"
      ]
     },
     "execution_count": 2,
     "metadata": {},
     "output_type": "execute_result"
    }
   ],
   "source": [
    "pwd"
   ]
  },
  {
   "cell_type": "code",
   "execution_count": 3,
   "metadata": {},
   "outputs": [],
   "source": [
    "os.chdir('../')"
   ]
  },
  {
   "cell_type": "code",
   "execution_count": 4,
   "metadata": {},
   "outputs": [
    {
     "data": {
      "text/plain": [
       "'f:\\\\Projects\\\\End-to-End-Chest-Cancer-Classification-Using-MLFlow-and-DVC-'"
      ]
     },
     "execution_count": 4,
     "metadata": {},
     "output_type": "execute_result"
    }
   ],
   "source": [
    "pwd"
   ]
  },
  {
   "cell_type": "code",
   "execution_count": 5,
   "metadata": {},
   "outputs": [],
   "source": [
    "from dataclasses import dataclass\n",
    "from pathlib import Path\n",
    "\n",
    "@dataclass(frozen=True)\n",
    "class ModelTrainerConfig:\n",
    "  root_dir: Path\n",
    "  trained_model_path: Path\n",
    "  updated_base_model_path: Path\n",
    "  training_data: Path\n",
    "  params_epochs: int\n",
    "  params_batch_size: int\n",
    "  params_is_augmentation: bool \n",
    "  params_image_size: list"
   ]
  },
  {
   "cell_type": "code",
   "execution_count": 7,
   "metadata": {},
   "outputs": [],
   "source": [
    "from cnnClassifier.constants import *\n",
    "from cnnClassifier.utils.common import read_yaml, create_directories\n",
    "import tensorflow as tf"
   ]
  },
  {
   "cell_type": "code",
   "execution_count": 8,
   "metadata": {},
   "outputs": [],
   "source": [
    "class ConfigurationManager:\n",
    "  def __init__(self, config_filepath = CONFIG_FILE_PATH, params_filepath = PARAMS_FILE_PATH):\n",
    "\n",
    "    self.config = read_yaml(config_filepath)\n",
    "    self.params = read_yaml(params_filepath)\n",
    "\n",
    "    create_directories([self.config.artifacts_root])\n",
    "\n",
    "\n",
    "  def get_model_trainer_config(self) -> ModelTrainerConfig:\n",
    "    config = self.config.model_trainer\n",
    "    prepare_base_model = self.config.prepare_base_model\n",
    "    params = self.params\n",
    "    training_data = os.path.join(self.config.data_ingestion.unzip_dir, 'Chest-CT-Scan-data')\n",
    "\n",
    "    create_directories([Path(config.root_dir)])\n",
    "\n",
    "    model_trainer_config = ModelTrainerConfig(\n",
    "      root_dir = Path(config.root_dir),\n",
    "      trained_model_path = Path(config.trained_model_path),\n",
    "      updated_base_model_path = Path(prepare_base_model.updated_base_model_path),\n",
    "      training_data = Path(training_data),\n",
    "      params_epochs = params.EPOCHS,\n",
    "      params_batch_size = params.BATCH_SIZE,\n",
    "      params_is_augmentation = params.AUGMENTATION,\n",
    "      params_image_size = params.IMAGE_SIZE\n",
    "    )\n",
    "\n",
    "    return model_trainer_config"
   ]
  },
  {
   "cell_type": "code",
   "execution_count": 9,
   "metadata": {},
   "outputs": [],
   "source": [
    "import os\n",
    "import urllib.request as request\n",
    "from zipfile import ZipFile\n",
    "import tensorflow as tf\n",
    "import time"
   ]
  },
  {
   "cell_type": "code",
   "execution_count": 10,
   "metadata": {},
   "outputs": [],
   "source": [
    "class ModelTraining:\n",
    "  def __init__(self, config: ModelTrainerConfig):\n",
    "    self.config = config\n",
    "\n",
    "  def get_base_model(self):\n",
    "    self.model = tf.keras.models.load_model(\n",
    "      self.config.updated_base_model_path\n",
    "    )\n",
    "\n",
    "  def train_valid_generator(self):\n",
    "    datagenerator_kwargs = dict(\n",
    "      rescale=1./255,\n",
    "      validation_split=0.2\n",
    "    )\n",
    "\n",
    "    dataflow_kwargs = dict(\n",
    "      target_size=self.config.params_image_size[:-1],\n",
    "      batch_size=self.config.params_batch_size,\n",
    "      interpolation='bilinear'\n",
    "    )\n",
    "\n",
    "    valid_datagenerator = tf.keras.preprocessing.image.ImageDataGenerator(\n",
    "      **datagenerator_kwargs\n",
    "    )\n",
    "\n",
    "    self.valid_datagenerator = valid_datagenerator.flow_from_directory(\n",
    "      directory=self.config.training_data,\n",
    "      subset='validation',\n",
    "      shuffle=False,\n",
    "      **dataflow_kwargs\n",
    "    )\n",
    "\n",
    "    if self.config.params_is_augmentation:\n",
    "      train_datagenerator = tf.keras.preprocessing.image.ImageDataGenerator(\n",
    "        rotation_range=40,\n",
    "        width_shift_range=0.2,\n",
    "        height_shift_range=0.2,\n",
    "        shear_range=0.2,\n",
    "        zoom_range=0.2,\n",
    "        horizontal_flip=True,\n",
    "        **datagenerator_kwargs\n",
    "      )\n",
    "    else:\n",
    "      train_datagenerator = valid_datagenerator\n",
    "\n",
    "    self.train_datagenerator = train_datagenerator.flow_from_directory(\n",
    "      directory=self.config.training_data,\n",
    "      subset='training',\n",
    "      shuffle=True,\n",
    "      **dataflow_kwargs\n",
    "    )\n",
    "\n",
    "\n",
    "  @staticmethod\n",
    "  def save_model(path: Path, model: tf.keras.Model):\n",
    "    model.save(path)\n",
    "\n",
    "\n",
    "  def train(self):\n",
    "    self.steps_per_epoch = self.train_datagenerator.samples // self.train_datagenerator.batch_size\n",
    "    self.validation_steps = self.valid_datagenerator.samples // self.valid_datagenerator.batch_size\n",
    "\n",
    "    self.model.fit(\n",
    "      self.train_datagenerator,\n",
    "      epochs=self.config.params_epochs,\n",
    "      steps_per_epoch=self.steps_per_epoch,\n",
    "      validation_data=self.valid_datagenerator,\n",
    "      validation_steps=self.validation_steps\n",
    "    )\n",
    "\n",
    "    self.save_model(path=self.config.trained_model_path, model=self.model)"
   ]
  },
  {
   "cell_type": "code",
   "execution_count": 11,
   "metadata": {},
   "outputs": [
    {
     "name": "stdout",
     "output_type": "stream",
     "text": [
      "[2024-07-26 18:26:28,158: INFO: common: yaml file: config\\config.yaml loaded successfully]\n",
      "[2024-07-26 18:26:28,170: INFO: common: yaml file: params.yaml loaded successfully]\n",
      "[2024-07-26 18:26:28,172: INFO: common: created directory at artifacts]\n",
      "[2024-07-26 18:26:28,175: INFO: common: created directory at artifacts\\training]\n",
      "Found 68 images belonging to 2 classes.\n",
      "Found 275 images belonging to 2 classes.\n",
      "17/17 [==============================] - 105s 6s/step - loss: 11.9177 - accuracy: 0.5637 - val_loss: 18.5807 - val_accuracy: 0.3906\n"
     ]
    }
   ],
   "source": [
    "try:\n",
    "  config = ConfigurationManager()\n",
    "  model_trainer_config = config.get_model_trainer_config()\n",
    "  model_training = ModelTraining(config=model_trainer_config)\n",
    "  model_training.get_base_model()\n",
    "  model_training.train_valid_generator()\n",
    "  model_training.train()\n",
    "except Exception as e:\n",
    "  raise e"
   ]
  },
  {
   "cell_type": "code",
   "execution_count": null,
   "metadata": {},
   "outputs": [],
   "source": []
  }
 ],
 "metadata": {
  "kernelspec": {
   "display_name": "Python 3",
   "language": "python",
   "name": "python3"
  },
  "language_info": {
   "codemirror_mode": {
    "name": "ipython",
    "version": 3
   },
   "file_extension": ".py",
   "mimetype": "text/x-python",
   "name": "python",
   "nbconvert_exporter": "python",
   "pygments_lexer": "ipython3",
   "version": "3.8.0"
  }
 },
 "nbformat": 4,
 "nbformat_minor": 2
}
